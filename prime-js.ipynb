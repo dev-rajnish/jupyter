{
 "cells": [
  {
   "cell_type": "code",
   "execution_count": 5,
   "id": "366086a4-569f-4a76-b27e-85309b618133",
   "metadata": {},
   "outputs": [
    {
     "data": {
      "application/javascript": [
       "let checkNum = 34;\n",
       "\n",
       "\n",
       "function showPrime(n) {\n",
       "    nextprime: for (let i = 2; i < n; i++) {\n",
       "\n",
       "        for (let j = 2; j < i; j++) {\n",
       "            if (i % j / i == 0) continue nextprime;\n",
       "        }\n",
       "\n",
       "        element.append(i+', ');\n",
       "    }\n",
       "}\n",
       "\n",
       "showPrime(checkNum)\n"
      ],
      "text/plain": [
       "<IPython.core.display.Javascript object>"
      ]
     },
     "metadata": {},
     "output_type": "display_data"
    }
   ],
   "source": [
    "%%js\n",
    "let checkNum = 34;\n",
    "\n",
    "\n",
    "function showPrime(n) {\n",
    "    nextprime: for (let i = 2; i < n; i++) {\n",
    "\n",
    "        for (let j = 2; j < i; j++) {\n",
    "            if (i % j / i == 0) continue nextprime;\n",
    "        }\n",
    "\n",
    "        element.append(i+', ');\n",
    "    }\n",
    "}\n",
    "\n",
    "showPrime(checkNum)"
   ]
  }
 ],
 "metadata": {
  "kernelspec": {
   "display_name": "Python 3.11 (ipykernel)",
   "language": "python",
   "name": "python3.11"
  },
  "language_info": {
   "codemirror_mode": {
    "name": "ipython",
    "version": 3
   },
   "file_extension": ".py",
   "mimetype": "text/x-python",
   "name": "python",
   "nbconvert_exporter": "python",
   "pygments_lexer": "ipython3",
   "version": "3.11.10"
  }
 },
 "nbformat": 4,
 "nbformat_minor": 5
}
