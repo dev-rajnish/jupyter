{
 "cells": [
  {
   "cell_type": "code",
   "execution_count": 11,
   "id": "a495c540-7eb5-49d2-82f0-c2256a9deeb2",
   "metadata": {},
   "outputs": [
    {
     "name": "stdout",
     "output_type": "stream",
     "text": [
      "hello"
     ]
    }
   ],
   "source": [
    "%%bash\n",
    "echo -e '#include <stdio.h> \\n int main () {  printf(\"hello\"); }' > temp.c && cc temp.c -o temp && ./temp"
   ]
  }
 ],
 "metadata": {
  "kernelspec": {
   "display_name": "Python 3.11 (ipykernel)",
   "language": "python",
   "name": "python3.11"
  },
  "language_info": {
   "codemirror_mode": {
    "name": "ipython",
    "version": 3
   },
   "file_extension": ".py",
   "mimetype": "text/x-python",
   "name": "python",
   "nbconvert_exporter": "python",
   "pygments_lexer": "ipython3",
   "version": "3.11.10"
  }
 },
 "nbformat": 4,
 "nbformat_minor": 5
}
